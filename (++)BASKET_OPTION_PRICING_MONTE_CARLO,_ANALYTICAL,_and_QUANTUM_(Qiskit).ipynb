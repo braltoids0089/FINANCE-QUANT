{
  "cells": [
    {
      "cell_type": "markdown",
      "metadata": {
        "id": "view-in-github",
        "colab_type": "text"
      },
      "source": [
        "<a href=\"https://colab.research.google.com/github/braltoids0089/FINANCE-QUANT/blob/main/(%2B%2B)BASKET_OPTION_PRICING_MONTE_CARLO%2C_ANALYTICAL%2C_and_QUANTUM_(Qiskit).ipynb\" target=\"_parent\"><img src=\"https://colab.research.google.com/assets/colab-badge.svg\" alt=\"Open In Colab\"/></a>"
      ]
    },
    {
      "cell_type": "markdown",
      "metadata": {
        "id": "tiB1LcrwBUO_"
      },
      "source": [
        "# **Basket Option Pricing: Monte Carlo, Analytical, and Quantum (Qiskit)**\n",
        "\n",
        "\n",
        "**A. Introduction**\n",
        "\n",
        "This notebook explores different methods for pricing a European basket call option, building upon concepts demonstrated in the Qiskit Finance tutorial on basket option pricing. Specifically, the quantum approach presented here is directly derived from the methodology outlined in the Qiskit tutorial:\n",
        "\n",
        "[https://qiskit-community.github.io/qiskit-finance/tutorials/06_basket_option_pricing.html](https://qiskit-community.github.io/qiskit-finance/tutorials/06_basket_option_pricing.html)\n",
        "\n",
        "Comparing Classical Monte Carlo, Analytical, and Quantum (Qiskit) approaches for option pricing is compelling and interesting for several reasons:\n",
        "\n",
        "\n",
        "\n",
        "\n",
        "1.  **Benchmark and Validation:**\n",
        "\n",
        "Classical Monte Carlo is a widely accepted and robust method used as a benchmark in financial engineering. Comparing other methods to it helps validate their accuracy and reliability. The analytical approximation provides a quick, though often less accurate, estimate that serves as a useful first comparison point.\n",
        "\n",
        "\n",
        "\n",
        "2.  **Exploring Computational Paradigms:**\n",
        "\n",
        "This comparison highlights the differences in computational approaches. Classical methods rely on traditional computing power, while quantum methods explore the potential of a fundamentally new paradigm with the promise of speedups for certain types of problems.\n",
        "\n",
        "\n",
        "\n",
        "3.  **Understanding Trade-offs:**\n",
        "\n",
        "Each method has its own trade-offs in terms of accuracy, computational cost, implementation complexity, and applicability to different types of options. The comparison helps to understand these trade-offs and when each method might be most appropriate.\n",
        "\n",
        "\n",
        "\n",
        "4.  **Assessing Quantum Advantage:**\n",
        "\n",
        "For the quantum method, the comparison is particularly interesting as it allows us to explore the potential for a \"quantum advantage\" – where a quantum computer can outperform classical computers for specific tasks. While this notebook simulates the quantum algorithm classically, the comparison provides context for the potential impact of future fault-tolerant quantum hardware.\n",
        "\n",
        "\n",
        "\n",
        "5.  **Educational Value:**\n",
        "\n",
        "Comparing these diverse methods offers significant educational value, demonstrating different techniques for tackling a core problem in quantitative finance and introducing the concepts of classical simulation, analytical solutions, and quantum algorithms in a practical context.\n",
        "\n",
        "It can also provide the theoretical foundation and the quantum circuit construction principles for using Amplitude Estimation to price financial derivatives like basket options.\n",
        "\n",
        "\n",
        "\n",
        "\n",
        "\n",
        "\n",
        "\n",
        "\n",
        "\n",
        "\n",
        "\n",
        "\n",
        "**B. Scope and Limitations**\n",
        "\n",
        "**Scope:**\n",
        "\n",
        "This notebook focuses on pricing a European basket call option on two assets (Brent Crude Oil and Gold Futures) with a fixed strike price and a single maturity date. It demonstrates three distinct approaches: classical Monte Carlo simulation, a simplified analytical approximation, and quantum Amplitude Estimation using Qiskit.\n",
        "\n",
        "\n",
        "\n",
        "**Limitations:**\n",
        "*   **Data:**\n",
        "Relies on historical data from Yahoo Finance, which may not perfectly reflect future market movements.\n",
        "\n",
        "\n",
        "*   **Analytical Approximation:**\n",
        "The analytical method is an approximation and may not be accurate for all basket compositions or market conditions.\n",
        "\n",
        "\n",
        "*   **Quantum Computing:**\n",
        "The quantum Amplitude Estimation is simulated on classical hardware, which does not provide the potential quantum speedup. The accuracy of the quantum result is limited by the number of qubits used and the number of shots in the sampler. Practical implementation on current noisy quantum hardware would require significant error mitigation.\n",
        "\n",
        "\n",
        "*   **Option Type:** Only considers a simple European call option. More complex options (e.g., American, path-dependent) would require different methodologies.\n",
        "\n",
        "\n",
        "*   **Model Assumptions:** All methods rely on assumptions about asset price dynamics (e.g., log-normal distribution for individual assets in Monte Carlo and Quantum, and an approximate log-normal distribution for the basket in the analytical method).\n",
        "\n",
        "\n",
        "\n",
        "\n",
        "\n",
        "\n",
        "**C. Model Modules and Implementation**\n",
        "\n",
        "The notebook utilizes several key Python libraries and Qiskit modules:\n",
        "\n",
        "*   **yfinance:** Used to download historical asset price data.\n",
        "*   **NumPy and pandas:** Standard libraries for numerical computation and data manipulation.\n",
        "*   **Matplotlib:** Used for plotting and visualization.\n",
        "*   **SciPy:** Provides statistical functions (e.g., `norm.cdf` for the analytical method).\n",
        "*   **Qiskit Core:** Provides the basic quantum circuit building blocks.\n",
        "*   **Qiskit Finance:** Contains modules for financial applications, including `LogNormalDistribution` for preparing the quantum state representing asset price distributions.\n",
        "*   **Qiskit Algorithms:** Includes `IterativeAmplitudeEstimation` for the quantum pricing algorithm.\n",
        "*   **Qiskit Aer:** Provides simulators for running quantum circuits.\n",
        "*   **Qiskit Circuit Library:** Offers pre-built circuit components like `WeightedAdder` and `LinearAmplitudeFunction` used to encode the basket sum and the option's payoff function.\n",
        "\n",
        "**The implementation involves:**\n",
        "1.  Downloading and processing historical data to estimate parameters (volatility, correlation).\n",
        "\n",
        "2.  Implementing the classical Monte Carlo simulation by generating random price paths and calculating the average discounted payoff.\n",
        "\n",
        "3.  Implementing the analytical approximation using a Black-Scholes-like formula with estimated basket parameters.\n",
        "\n",
        "4.  Constructing a quantum circuit using Qiskit modules to represent the asset price distribution and the option payoff.\n",
        "\n",
        "5.  Running the Iterative Amplitude Estimation algorithm on a simulator to estimate the expected payoff.\n",
        "\n",
        "6.  Comparing the results from all three methods.\n",
        "\n",
        "\n",
        "\n",
        "\n",
        "\n",
        "**D. Key Points**\n",
        "\n",
        "*   Classical Monte Carlo is a versatile and widely used method, providing a statistical estimate with an associated error. Its accuracy improves with more simulations but at increased computational cost.\n",
        "*   The Analytical Log-Normal Approximation is computationally efficient but is an approximation and may not be accurate in all scenarios. It serves as a useful benchmark.\n",
        "*   Quantum Amplitude Estimation has the potential for a quadratic speedup over classical Monte Carlo on fault-tolerant quantum computers for certain problems. However, its practical implementation is currently limited by hardware capabilities and requires complex circuit design and error mitigation.\n",
        "*   Comparing the results from different methods provides insights into their strengths, weaknesses, and the impact of underlying assumptions and computational resources.\n",
        "*   The quantum approach in this notebook is a direct application of the methodology described in the Qiskit Finance basket option tutorial."
      ]
    },
    {
      "cell_type": "markdown",
      "metadata": {
        "id": "MtWxIVqjBUPC"
      },
      "source": [
        "# **1. Install and Import Libraries**\n",
        "\n",
        "\n",
        "This cell ensures all required packages are present (auto-installs Qiskit if needed), then loads all necessary Python modules.\n"
      ]
    },
    {
      "cell_type": "code",
      "source": [
        "# Install Qiskit and its dependencies (run this cell once, then restart!)\n",
        "!pip install qiskit==0.43.1 qiskit-finance==0.3.4 qiskit-aer==0.12.0 qiskit-algorithms==0.2.1 --upgrade --no-cache-dir\n"
      ],
      "metadata": {
        "colab": {
          "base_uri": "https://localhost:8080/"
        },
        "id": "AQGS7yX0CkIY",
        "outputId": "12c24af5-c1d3-4b20-a6a9-c6de24562b75",
        "collapsed": true
      },
      "execution_count": null,
      "outputs": [
        {
          "output_type": "stream",
          "name": "stdout",
          "text": [
            "Requirement already satisfied: qiskit==0.43.1 in /usr/local/lib/python3.11/dist-packages (0.43.1)\n",
            "Requirement already satisfied: qiskit-finance==0.3.4 in /usr/local/lib/python3.11/dist-packages (0.3.4)\n",
            "Requirement already satisfied: qiskit-aer==0.12.0 in /usr/local/lib/python3.11/dist-packages (0.12.0)\n",
            "Requirement already satisfied: qiskit-algorithms==0.2.1 in /usr/local/lib/python3.11/dist-packages (0.2.1)\n",
            "Requirement already satisfied: qiskit-terra==0.24.1 in /usr/local/lib/python3.11/dist-packages (from qiskit==0.43.1) (0.24.1)\n",
            "Requirement already satisfied: qiskit-ibmq-provider==0.20.2 in /usr/local/lib/python3.11/dist-packages (from qiskit==0.43.1) (0.20.2)\n",
            "Requirement already satisfied: qiskit-optimization>=0.2.0 in /usr/local/lib/python3.11/dist-packages (from qiskit-finance==0.3.4) (0.5.0)\n",
            "Requirement already satisfied: scipy>=1.4 in /usr/local/lib/python3.11/dist-packages (from qiskit-finance==0.3.4) (1.15.3)\n",
            "Requirement already satisfied: numpy>=1.17 in /usr/local/lib/python3.11/dist-packages (from qiskit-finance==0.3.4) (1.23.5)\n",
            "Requirement already satisfied: psutil>=5 in /usr/local/lib/python3.11/dist-packages (from qiskit-finance==0.3.4) (5.9.5)\n",
            "Requirement already satisfied: fastdtw in /usr/local/lib/python3.11/dist-packages (from qiskit-finance==0.3.4) (0.3.4)\n",
            "Requirement already satisfied: setuptools>=40.1.0 in /usr/local/lib/python3.11/dist-packages (from qiskit-finance==0.3.4) (75.2.0)\n",
            "Requirement already satisfied: pandas in /usr/local/lib/python3.11/dist-packages (from qiskit-finance==0.3.4) (2.2.2)\n",
            "Requirement already satisfied: nasdaq-data-link in /usr/local/lib/python3.11/dist-packages (from qiskit-finance==0.3.4) (1.0.4)\n",
            "Requirement already satisfied: yfinance>=0.1.70 in /usr/local/lib/python3.11/dist-packages (from qiskit-finance==0.3.4) (0.2.65)\n",
            "Requirement already satisfied: certifi in /usr/local/lib/python3.11/dist-packages (from qiskit-finance==0.3.4) (2025.8.3)\n",
            "Requirement already satisfied: urllib3 in /usr/local/lib/python3.11/dist-packages (from qiskit-finance==0.3.4) (2.5.0)\n",
            "Requirement already satisfied: requests>=2.19 in /usr/local/lib/python3.11/dist-packages (from qiskit-ibmq-provider==0.20.2->qiskit==0.43.1) (2.32.3)\n",
            "Requirement already satisfied: requests-ntlm<=1.1.0 in /usr/local/lib/python3.11/dist-packages (from qiskit-ibmq-provider==0.20.2->qiskit==0.43.1) (1.1.0)\n",
            "Requirement already satisfied: python-dateutil>=2.8.0 in /usr/local/lib/python3.11/dist-packages (from qiskit-ibmq-provider==0.20.2->qiskit==0.43.1) (2.9.0.post0)\n",
            "Requirement already satisfied: websocket-client>=1.5.1 in /usr/local/lib/python3.11/dist-packages (from qiskit-ibmq-provider==0.20.2->qiskit==0.43.1) (1.8.0)\n",
            "Requirement already satisfied: websockets>=10.0 in /usr/local/lib/python3.11/dist-packages (from qiskit-ibmq-provider==0.20.2->qiskit==0.43.1) (15.0.1)\n",
            "Requirement already satisfied: rustworkx>=0.12.0 in /usr/local/lib/python3.11/dist-packages (from qiskit-terra==0.24.1->qiskit==0.43.1) (0.17.1)\n",
            "Requirement already satisfied: ply>=3.10 in /usr/local/lib/python3.11/dist-packages (from qiskit-terra==0.24.1->qiskit==0.43.1) (3.11)\n",
            "Requirement already satisfied: sympy>=1.3 in /usr/local/lib/python3.11/dist-packages (from qiskit-terra==0.24.1->qiskit==0.43.1) (1.13.1)\n",
            "Requirement already satisfied: dill>=0.3 in /usr/local/lib/python3.11/dist-packages (from qiskit-terra==0.24.1->qiskit==0.43.1) (0.3.8)\n",
            "Requirement already satisfied: stevedore>=3.0.0 in /usr/local/lib/python3.11/dist-packages (from qiskit-terra==0.24.1->qiskit==0.43.1) (5.4.1)\n",
            "Requirement already satisfied: symengine<0.10,>=0.9 in /usr/local/lib/python3.11/dist-packages (from qiskit-terra==0.24.1->qiskit==0.43.1) (0.9.2)\n",
            "Requirement already satisfied: docplex!=2.24.231,>=2.21.207 in /usr/local/lib/python3.11/dist-packages (from qiskit-optimization>=0.2.0->qiskit-finance==0.3.4) (2.30.251)\n",
            "Requirement already satisfied: networkx>=2.6.3 in /usr/local/lib/python3.11/dist-packages (from qiskit-optimization>=0.2.0->qiskit-finance==0.3.4) (3.5)\n",
            "Requirement already satisfied: multitasking>=0.0.7 in /usr/local/lib/python3.11/dist-packages (from yfinance>=0.1.70->qiskit-finance==0.3.4) (0.0.12)\n",
            "Requirement already satisfied: platformdirs>=2.0.0 in /usr/local/lib/python3.11/dist-packages (from yfinance>=0.1.70->qiskit-finance==0.3.4) (4.3.8)\n",
            "Requirement already satisfied: pytz>=2022.5 in /usr/local/lib/python3.11/dist-packages (from yfinance>=0.1.70->qiskit-finance==0.3.4) (2025.2)\n",
            "Requirement already satisfied: frozendict>=2.3.4 in /usr/local/lib/python3.11/dist-packages (from yfinance>=0.1.70->qiskit-finance==0.3.4) (2.4.6)\n",
            "Requirement already satisfied: peewee>=3.16.2 in /usr/local/lib/python3.11/dist-packages (from yfinance>=0.1.70->qiskit-finance==0.3.4) (3.18.2)\n",
            "Requirement already satisfied: beautifulsoup4>=4.11.1 in /usr/local/lib/python3.11/dist-packages (from yfinance>=0.1.70->qiskit-finance==0.3.4) (4.13.4)\n",
            "Requirement already satisfied: curl_cffi>=0.7 in /usr/local/lib/python3.11/dist-packages (from yfinance>=0.1.70->qiskit-finance==0.3.4) (0.13.0)\n",
            "Requirement already satisfied: protobuf>=3.19.0 in /usr/local/lib/python3.11/dist-packages (from yfinance>=0.1.70->qiskit-finance==0.3.4) (5.29.5)\n",
            "Requirement already satisfied: tzdata>=2022.7 in /usr/local/lib/python3.11/dist-packages (from pandas->qiskit-finance==0.3.4) (2025.2)\n",
            "Requirement already satisfied: inflection>=0.3.1 in /usr/local/lib/python3.11/dist-packages (from nasdaq-data-link->qiskit-finance==0.3.4) (0.5.1)\n",
            "Requirement already satisfied: six in /usr/local/lib/python3.11/dist-packages (from nasdaq-data-link->qiskit-finance==0.3.4) (1.17.0)\n",
            "Requirement already satisfied: more-itertools in /usr/local/lib/python3.11/dist-packages (from nasdaq-data-link->qiskit-finance==0.3.4) (10.7.0)\n",
            "Requirement already satisfied: soupsieve>1.2 in /usr/local/lib/python3.11/dist-packages (from beautifulsoup4>=4.11.1->yfinance>=0.1.70->qiskit-finance==0.3.4) (2.7)\n",
            "Requirement already satisfied: typing-extensions>=4.0.0 in /usr/local/lib/python3.11/dist-packages (from beautifulsoup4>=4.11.1->yfinance>=0.1.70->qiskit-finance==0.3.4) (4.14.1)\n",
            "Requirement already satisfied: cffi>=1.12.0 in /usr/local/lib/python3.11/dist-packages (from curl_cffi>=0.7->yfinance>=0.1.70->qiskit-finance==0.3.4) (1.17.1)\n",
            "Requirement already satisfied: charset-normalizer<4,>=2 in /usr/local/lib/python3.11/dist-packages (from requests>=2.19->qiskit-ibmq-provider==0.20.2->qiskit==0.43.1) (3.4.3)\n",
            "Requirement already satisfied: idna<4,>=2.5 in /usr/local/lib/python3.11/dist-packages (from requests>=2.19->qiskit-ibmq-provider==0.20.2->qiskit==0.43.1) (3.10)\n",
            "Requirement already satisfied: ntlm-auth>=1.0.2 in /usr/local/lib/python3.11/dist-packages (from requests-ntlm<=1.1.0->qiskit-ibmq-provider==0.20.2->qiskit==0.43.1) (1.5.0)\n",
            "Requirement already satisfied: cryptography>=1.3 in /usr/local/lib/python3.11/dist-packages (from requests-ntlm<=1.1.0->qiskit-ibmq-provider==0.20.2->qiskit==0.43.1) (43.0.3)\n",
            "Requirement already satisfied: pbr>=2.0.0 in /usr/local/lib/python3.11/dist-packages (from stevedore>=3.0.0->qiskit-terra==0.24.1->qiskit==0.43.1) (7.0.0)\n",
            "Requirement already satisfied: mpmath<1.4,>=1.1.0 in /usr/local/lib/python3.11/dist-packages (from sympy>=1.3->qiskit-terra==0.24.1->qiskit==0.43.1) (1.3.0)\n",
            "Requirement already satisfied: pycparser in /usr/local/lib/python3.11/dist-packages (from cffi>=1.12.0->curl_cffi>=0.7->yfinance>=0.1.70->qiskit-finance==0.3.4) (2.22)\n"
          ]
        }
      ]
    },
    {
      "cell_type": "code",
      "source": [
        "import qiskit\n",
        "import yfinance as yf\n",
        "import numpy as np\n",
        "import matplotlib.pyplot as plt\n",
        "from scipy.stats import norm\n",
        "import pandas as pd\n",
        "import warnings\n",
        "warnings.filterwarnings('ignore')\n"
      ],
      "metadata": {
        "id": "KAHVD-VxCvvO"
      },
      "execution_count": null,
      "outputs": []
    },
    {
      "cell_type": "code",
      "metadata": {
        "id": "5MS1w5hdBUPC"
      },
      "source": [
        "# Auto-install Qiskit (works in Colab/Jupyter)\n",
        "try:\n",
        "    import qiskit\n",
        "except ImportError:\n",
        "    !pip install qiskit==0.43.1 qiskit-finance==0.3.4 qiskit-aer==0.12.0 qiskit-algorithms==0.2.1 --quiet --upgrade --no-cache-dir\n",
        "    import qiskit\n",
        "\n",
        "import yfinance as yf\n",
        "import numpy as np\n",
        "import matplotlib.pyplot as plt\n",
        "from scipy.stats import norm\n",
        "import pandas as pd\n",
        "import warnings\n",
        "warnings.filterwarnings('ignore')"
      ],
      "execution_count": null,
      "outputs": []
    },
    {
      "cell_type": "markdown",
      "metadata": {
        "id": "UVufPAcgBUPD"
      },
      "source": [
        "# **2. Download Historical Asset Prices**\n",
        "\n",
        "We use Yahoo Finance to get daily close prices for Brent Oil and Gold. Change `tickers` for other assets.\n"
      ]
    },
    {
      "cell_type": "code",
      "metadata": {
        "id": "bELV6gTuBUPD",
        "colab": {
          "base_uri": "https://localhost:8080/",
          "height": 414
        },
        "outputId": "18e25f49-4064-4ddd-bd5d-3ac13dd053e3"
      },
      "source": [
        "tickers = ['BZ=F', 'GC=F']  # Brent Oil, Gold Futures\n",
        "start_date = '2022-01-01'\n",
        "end_date = '2023-01-01'\n",
        "\n",
        "# Download daily closing prices\n",
        "data = yf.download(tickers, start=start_date, end=end_date)['Close'].dropna()\n",
        "\n",
        "# Plot asset price histories\n",
        "ax = data.plot(figsize=(12, 6), title='Historical Prices: Brent Oil & Gold')\n",
        "plt.xlabel('Date')\n",
        "plt.ylabel('Price')\n",
        "plt.grid(alpha=0.3)\n",
        "plt.show()\n"
      ],
      "execution_count": null,
      "outputs": [
        {
          "output_type": "stream",
          "name": "stderr",
          "text": [
            "[*********************100%***********************]  2 of 2 completed\n"
          ]
        },
        {
          "output_type": "display_data",
          "data": {
            "text/plain": [
              "<Figure size 1200x600 with 1 Axes>"
            ],
            "image/png": "[encoded data removed]"
          },
          "metadata": {}
        }
      ]
    },
    {
      "cell_type": "markdown",
      "metadata": {
        "id": "Y7Hpk8MpBUPE"
      },
      "source": [
        "# **3. Calculate Log-normal Model Parameters**\n",
        "\n",
        "\n",
        "Estimate log returns, volatility, correlation matrix, and set the simulation/option parameters.\n"
      ]
    },
    {
      "cell_type": "code",
      "metadata": {
        "id": "PhGWIhAABUPE",
        "colab": {
          "base_uri": "https://localhost:8080/"
        },
        "outputId": "753c11fe-e904-4d6b-ace7-9b9833344825"
      },
      "source": [
        "returns = np.log(data / data.shift(1)).dropna()\n",
        "corr_matrix = returns.corr().values\n",
        "mu = returns.mean().values * 252  # Annual drift per asset\n",
        "sigma = returns.std().values * np.sqrt(252)  # Annualized vol per asset\n",
        "S0 = data.iloc[-1].values  # Use latest available prices\n",
        "\n",
        "T = 30 / 365  # 30 days to maturity\n",
        "r = 0.01      # risk-free rate\n",
        "K = np.mean(S0) * 1.02  # Strike: slightly OTM\n",
        "n_assets = 2\n",
        "\n",
        "# Display calculated parameters\n",
        "print(f'Assets: {data.columns.tolist()}')\n",
        "print(f'Latest prices: {S0}')\n",
        "print(f'Annualized volatilities: {sigma}')\n",
        "print(f'Correlation matrix: \\n{corr_matrix}')\n",
        "print(f'Maturity T (years): {T:.4f}')\n",
        "print(f'Strike: {K:.2f}')"
      ],
      "execution_count": null,
      "outputs": [
        {
          "output_type": "stream",
          "name": "stdout",
          "text": [
            "Assets: ['BZ=F', 'GC=F']\n",
            "Latest prices: [  85.91000366 1819.69995117]\n",
            "Annualized volatilities: [0.4663346  0.15455043]\n",
            "Correlation matrix: \n",
            "[[1.         0.38826763]\n",
            " [0.38826763 1.        ]]\n",
            "Maturity T (years): 0.0822\n",
            "Strike: 971.86\n"
          ]
        }
      ]
    },
    {
      "cell_type": "markdown",
      "metadata": {
        "id": "_yjWJZGLBUPE"
      },
      "source": [
        "# **4. Classical Monte Carlo Simulation (Basket Option)**\n",
        "\n",
        "\n",
        "Simulate joint asset prices at maturity under correlated GBM and compute the discounted payoff for the basket call.\n"
      ]
    },
    {
      "cell_type": "code",
      "metadata": {
        "id": "gPEk_qGZBUPF",
        "colab": {
          "base_uri": "https://localhost:8080/",
          "height": 340
        },
        "outputId": "6e66aed0-bb2b-4904-f00d-1c9d048276a1"
      },
      "source": [
        "n_sim = 100_000\n",
        "dt = T\n",
        "# Covariance for terminal log-prices\n",
        "cov = np.outer(sigma, sigma) * corr_matrix\n",
        "\n",
        "# Simulate terminal log-prices for each asset\n",
        "samples = np.random.multivariate_normal(\n",
        "    mean=(np.log(S0) + (r - 0.5 * sigma**2) * T),\n",
        "    cov=cov * T,\n",
        "    size=n_sim\n",
        ")\n",
        "# Convert to price space\n",
        "prices = np.exp(samples)\n",
        "basket = np.sum(prices, axis=1)\n",
        "payoff = np.maximum(basket - K, 0)\n",
        "mc_value = np.exp(-r * T) * np.mean(payoff)\n",
        "mc_std = np.exp(-r * T) * np.std(payoff) / np.sqrt(n_sim)\n",
        "\n",
        "print(f'Monte Carlo Basket Option Price: {mc_value:.4f} ± {mc_std:.4f}')\n",
        "\n",
        "# Visualize basket distribution and payoff\n",
        "plt.figure(figsize=(12,5))\n",
        "plt.subplot(1,2,1)\n",
        "plt.hist(basket, bins=80, alpha=0.7)\n",
        "plt.axvline(K, color='red', linestyle='--', label=f'Strike K={K:.2f}')\n",
        "plt.title('Simulated Basket Value at Maturity')\n",
        "plt.xlabel('Basket Value')\n",
        "plt.ylabel('Frequency')\n",
        "plt.legend()\n",
        "plt.grid(alpha=0.3)\n",
        "\n",
        "plt.subplot(1,2,2)\n",
        "plt.hist(payoff, bins=80, alpha=0.7, color='orange')\n",
        "plt.title('Distribution of Payoff')\n",
        "plt.xlabel('Payoff')\n",
        "plt.ylabel('Frequency')\n",
        "plt.grid(alpha=0.3)\n",
        "plt.tight_layout()\n",
        "plt.show()\n"
      ],
      "execution_count": null,
      "outputs": [
        {
          "output_type": "stream",
          "name": "stdout",
          "text": [
            "Monte Carlo Basket Option Price: 934.7191 ± 0.2718\n"
          ]
        },
        {
          "output_type": "display_data",
          "data": {
            "text/plain": [
              "<Figure size 1200x500 with 2 Axes>"
            ],
            "image/png": "[encoded data removed]"
          },
          "metadata": {}
        }
      ]
    },
    {
      "cell_type": "markdown",
      "metadata": {
        "id": "j33WOZbaBUPF"
      },
      "source": [
        "# **5. Analytical Log-Normal Approximation**\n",
        "\n",
        "\n",
        "Estimate the basket's mean and variance and use a Black-Scholes-like approach. This is approximate since the sum of log-normals is not itself log-normal, but it's a useful benchmark.\n"
      ]
    },
    {
      "cell_type": "code",
      "metadata": {
        "id": "H8Jdai_-BUPF",
        "colab": {
          "base_uri": "https://localhost:8080/"
        },
        "outputId": "61cfc353-bbf5-4585-ecc5-5bf5b3c34cab"
      },
      "source": [
        "basket_mean = np.sum(S0 * np.exp(r * T))\n",
        "basket_var = (\n",
        "    S0[0]**2 * np.exp(2 * r * T) * (np.exp(sigma[0]**2 * T) - 1) +\n",
        "    S0[1]**2 * np.exp(2 * r * T) * (np.exp(sigma[1]**2 * T) - 1) +\n",
        "    2 * np.prod(S0) * np.exp(2 * r * T) *\n",
        "    (np.exp(corr_matrix[0,1] * sigma[0] * sigma[1] * T) - 1)\n",
        ")\n",
        "basket_sigma = np.sqrt(np.log(1 + basket_var / basket_mean**2))\n",
        "basket_mu = np.log(basket_mean) - 0.5 * basket_sigma**2\n",
        "\n",
        "# Black-Scholes-like pricing\n",
        "d1 = (np.log(basket_mean/K) + 0.5 * basket_sigma**2) / basket_sigma\n",
        "d2 = d1 - basket_sigma\n",
        "analytic_value = np.exp(-r * T) * (basket_mean * norm.cdf(d1) - K * norm.cdf(d2))\n",
        "print(f'Analytical (approx) Basket Option Price: {analytic_value:.4f}')"
      ],
      "execution_count": null,
      "outputs": [
        {
          "output_type": "stream",
          "name": "stdout",
          "text": [
            "Analytical (approx) Basket Option Price: 934.5473\n"
          ]
        }
      ]
    },
    {
      "cell_type": "markdown",
      "source": [
        "# **6. Analysis of Basket Mean Sensitivity**\n",
        "\n",
        "\n",
        "\n",
        "\n",
        "**Estimate Basket Mean:**\n",
        "It calculates the expected value of the sum of the asset prices at maturity (basket_mean). This is done by summing the forward prices of the individual assets, assuming they follow a geometric Brownian motion.\n",
        "\n",
        "\n",
        "\n",
        "\n",
        "**Estimate Basket Variance:**\n",
        "\n",
        "It calculates the variance of the sum of the asset prices at maturity (basket_var). This is a more complex calculation that takes into account the individual asset volatilities and the correlation between the assets.\n",
        "\n",
        "\n",
        "\n",
        "\n",
        "\n",
        "**Estimate Basket Volatility and Drift(Log-Normal Approximation):**\n",
        "\n",
        "It then uses the calculated basket_mean and basket_var to find the parameters (basket_sigma and basket_mu) of a single log-normal distribution that approximates the distribution of the basket value at maturity. This is an approximation because the sum of log-normal variables is not perfectly log-normal.\n",
        "\n",
        "\n",
        "\n",
        "\n",
        "\n",
        "**Black-Scholes-like Pricing:**\n",
        "\n",
        "Finally, it uses these estimated parameters (basket_mean, basket_sigma) along with the strike price (K), risk-free rate (r), and time to maturity (T) in a formula that resembles the Black-Scholes formula for a single asset option. This gives the analytic_value of the basket option under the log-normal approximation.\n",
        "\n"
      ],
      "metadata": {
        "id": "morbMzgvtw4N"
      }
    },
    {
      "cell_type": "code",
      "source": [
        "# Function to calculate basket mean\n",
        "def calculate_basket_mean(S0, r, T):\n",
        "    \"\"\"Calculates the expected value of the basket at maturity.\"\"\"\n",
        "    return np.sum(S0 * np.exp(r * T))\n",
        "\n",
        "# Current parameters\n",
        "print(f\"Current S0: {S0}\")\n",
        "print(f\"Current r: {r}\")\n",
        "print(f\"Current T: {T:.4f}\")\n",
        "print(f\"Current Strike K: {K:.2f}\")\n",
        "\n",
        "current_basket_mean = calculate_basket_mean(S0, r, T)\n",
        "print(f\"\\nBasket Mean with current parameters: {current_basket_mean:.2f}\")\n",
        "print(f\"Basket Mean vs Strike Price: Basket Mean ({current_basket_mean:.2f}) is {'greater than' if current_basket_mean > K else 'less than or equal to'} Strike Price ({K:.2f})\")\n",
        "\n",
        "\n",
        "# How the basket mean changes under different parameters\n",
        "\n",
        "# Scenario 1: Increase time to maturity (T)\n",
        "T_increased = T * 2 # Double the time to maturity\n",
        "basket_mean_increased_T = calculate_basket_mean(S0, r, T_increased)\n",
        "print(f\"\\n--- Scenario 1: Increased Time to Maturity (T = {T_increased:.4f}) ---\")\n",
        "print(f\"Basket Mean: {basket_mean_increased_T:.2f}\")\n",
        "print(f\"Change from current: {basket_mean_increased_T - current_basket_mean:.2f}\")\n",
        "\n",
        "# Scenario 2: Increase risk-free rate (r)\n",
        "r_increased = r * 2 # Double the risk-free rate\n",
        "basket_mean_increased_r = calculate_basket_mean(S0, r_increased, T)\n",
        "print(f\"\\n--- Scenario 2: Increased Risk-Free Rate (r = {r_increased:.4f}) ---\")\n",
        "print(f\"Basket Mean: {basket_mean_increased_r:.2f}\")\n",
        "print(f\"Change from current: {basket_mean_increased_r - current_basket_mean:.2f}\")\n",
        "\n",
        "# Scenario 3: Change initial prices (S0) - e.g., increase one asset's price\n",
        "S0_changed = np.copy(S0)\n",
        "S0_changed[0] = S0_changed[0] * 1.1 # Increase price of the first asset by 10%\n",
        "basket_mean_changed_S0 = calculate_basket_mean(S0_changed, r, T)\n",
        "print(f\"\\n--- Scenario 3: Changed Initial Prices (S0 = {S0_changed}) ---\")\n",
        "print(f\"Basket Mean: {basket_mean_changed_S0:.2f}\")\n",
        "print(f\"Change from current: {basket_mean_changed_S0 - current_basket_mean:.2f}\")"
      ],
      "metadata": {
        "colab": {
          "base_uri": "https://localhost:8080/"
        },
        "id": "knAQXV2Zk9eY",
        "outputId": "7e6edffc-25b2-4e22-8d06-5d432d329afa"
      },
      "execution_count": null,
      "outputs": [
        {
          "output_type": "stream",
          "name": "stdout",
          "text": [
            "Current S0: [  85.91000366 1819.69995117]\n",
            "Current r: 0.01\n",
            "Current T: 0.0822\n",
            "Current Strike K: 971.86\n",
            "\n",
            "Basket Mean with current parameters: 1907.18\n",
            "Basket Mean vs Strike Price: Basket Mean (1907.18) is greater than Strike Price (971.86)\n",
            "\n",
            "--- Scenario 1: Increased Time to Maturity (T = 0.1644) ---\n",
            "Basket Mean: 1908.75\n",
            "Change from current: 1.57\n",
            "\n",
            "--- Scenario 2: Increased Risk-Free Rate (r = 0.0200) ---\n",
            "Basket Mean: 1908.75\n",
            "Change from current: 1.57\n",
            "\n",
            "--- Scenario 3: Changed Initial Prices (S0 = [  94.50100403 1819.69995117]) ---\n",
            "Basket Mean: 1915.77\n",
            "Change from current: 8.60\n"
          ]
        }
      ]
    },
    {
      "cell_type": "code",
      "source": [
        "# Create a list of scenario names and corresponding basket means\n",
        "scenarios = ['Current Parameters', 'Increased T', 'Increased r', 'Changed S0']\n",
        "basket_means = [\n",
        "    current_basket_mean,\n",
        "    basket_mean_increased_T,\n",
        "    basket_mean_increased_r,\n",
        "    basket_mean_changed_S0\n",
        "]\n",
        "\n",
        "# Plot the basket mean for each scenario\n",
        "plt.figure(figsize=(10, 6))\n",
        "plt.bar(scenarios, basket_means, color=['blue', 'orange', 'green', 'red'])\n",
        "plt.ylabel('Basket Mean at Maturity')\n",
        "plt.title('Basket Mean Sensitivity Analysis')\n",
        "plt.grid(axis='y', alpha=0.7)\n",
        "plt.show()"
      ],
      "metadata": {
        "colab": {
          "base_uri": "https://localhost:8080/",
          "height": 472
        },
        "id": "CAVMGtnWwCNK",
        "outputId": "91ddf18c-0f52-4a1c-fd2c-65993b9ed41c"
      },
      "execution_count": null,
      "outputs": [
        {
          "output_type": "display_data",
          "data": {
            "text/plain": [
              "<Figure size 1000x600 with 1 Axes>"
            ],
            "image/png": "[encoded data removed]"
          },
          "metadata": {}
        }
      ]
    },
    {
      "cell_type": "markdown",
      "metadata": {
        "id": "i-Y2CHOJBUPF"
      },
      "source": [
        "# **6. Quantum Basket Option Pricing (Qiskit Amplitude Estimation)**\n",
        "\n",
        "\n",
        "\n",
        "Leverages Qiskit Finance's primitives to build the quantum model, using log-normal uncertainty and a weighted adder for the basket payoff. See Qiskit's documentation for full algorithm details.\n"
      ]
    },
    {
      "cell_type": "code",
      "metadata": {
        "id": "NThdha7oBUPG",
        "colab": {
          "base_uri": "https://localhost:8080/"
        },
        "outputId": "846a3c7e-27d3-4a1f-c78b-f0f68e18ac77"
      },
      "source": [
        "from qiskit import QuantumRegister, QuantumCircuit, AncillaRegister, transpile\n",
        "from qiskit.circuit.library import WeightedAdder, LinearAmplitudeFunction\n",
        "from qiskit_algorithms import IterativeAmplitudeEstimation, EstimationProblem\n",
        "from qiskit_aer.primitives import Sampler\n",
        "from qiskit_finance.circuit.library import LogNormalDistribution\n",
        "\n",
        "num_uncertainty_qubits = 2  # qubits per asset (increase for more precision, more time)\n",
        "\n",
        "# Set up quantum distribution parameters\n",
        "mu_vec = np.log(S0) + (r - 0.5 * sigma**2) * T\n",
        "cov_matrix = np.outer(sigma, sigma) * corr_matrix * T\n",
        "low_vec = [max(0, S0[i] * 0.5) for i in range(n_assets)]\n",
        "high_vec = [S0[i] * 1.5 for i in range(n_assets)]\n",
        "\n",
        "uncertainty_model = LogNormalDistribution(\n",
        "    num_qubits=[num_uncertainty_qubits]*n_assets,\n",
        "    mu=mu_vec,\n",
        "    sigma=cov_matrix,\n",
        "    bounds=list(zip(low_vec, high_vec))\n",
        ")\n",
        "\n",
        "# Weighted adder for basket\n",
        "weights = [1]*(2*num_uncertainty_qubits)  # 2 assets x qubits per asset\n",
        "agg = WeightedAdder(sum([num_uncertainty_qubits]*n_assets), weights)\n",
        "n_s = agg.num_sum_qubits\n",
        "mapped_strike = (K - sum(low_vec)) / (sum(high_vec) - sum(low_vec)) * (2**num_uncertainty_qubits - 1)\n",
        "breakpoints = [0, mapped_strike]\n",
        "slopes = [0, 1]\n",
        "offsets = [0, 0]\n",
        "f_min = 0\n",
        "f_max = 2 * (2**num_uncertainty_qubits - 1) - mapped_strike\n",
        "\n",
        "payoff_function = LinearAmplitudeFunction(\n",
        "    n_s, slopes, offsets, domain=(0, 2**n_s - 1),\n",
        "    image=(f_min, f_max), rescaling_factor=0.25, breakpoints=breakpoints,\n",
        ")\n",
        "\n",
        "# Build the circuit\n",
        "qr_state = QuantumRegister(uncertainty_model.num_qubits, 'state')\n",
        "qr_obj = QuantumRegister(1, 'obj')\n",
        "ar_sum = AncillaRegister(n_s, 'sum')\n",
        "ar = AncillaRegister(max(agg.num_qubits - n_s - agg.num_state_qubits, payoff_function.num_ancillas), 'work')\n",
        "circuit = QuantumCircuit(qr_state, qr_obj, ar_sum, ar)\n",
        "circuit.append(uncertainty_model, qr_state)\n",
        "circuit.append(agg, qr_state[:] + ar_sum[:] + ar[:agg.num_qubits - n_s - agg.num_state_qubits])\n",
        "circuit.append(payoff_function, ar_sum[:] + qr_obj[:] + ar[:payoff_function.num_ancillas])\n",
        "\n",
        "objective_index = uncertainty_model.num_qubits\n",
        "\n",
        "problem = EstimationProblem(\n",
        "    state_preparation=circuit,\n",
        "    objective_qubits=[objective_index],\n",
        "    post_processing=payoff_function.post_processing,\n",
        ")\n",
        "ae = IterativeAmplitudeEstimation(\n",
        "    epsilon_target=0.01,\n",
        "    alpha=0.05,\n",
        "    sampler=Sampler(run_options={'shots': 1000, 'seed': 42}),\n",
        ")\n",
        "ae_result = ae.estimate(problem)\n",
        "quantum_value = ae_result.estimation_processed / (2**num_uncertainty_qubits - 1) * (sum(high_vec) - sum(low_vec))\n",
        "conf_int = (np.array(ae_result.confidence_interval_processed) / (2**num_uncertainty_qubits - 1) * (sum(high_vec) - sum(low_vec)))\n",
        "print(f'Quantum Amplitude Estimation (Qiskit): {quantum_value:.4f}   CI: [{conf_int[0]:.4f}, {conf_int[1]:.4f}]')"
      ],
      "execution_count": null,
      "outputs": [
        {
          "output_type": "stream",
          "name": "stdout",
          "text": [
            "Quantum Amplitude Estimation (Qiskit): 1282.3538   CI: [1199.7789, 1364.9288]\n"
          ]
        }
      ]
    },
    {
      "cell_type": "markdown",
      "source": [
        "# **Quantum Amplitude Estimation (Qiskit): 1282.3538:**\n",
        "\n",
        "\n",
        "This is the estimated price of the basket option calculated by the quantum algorithm. It's a single point estimate of the option's value based on the quantum computation.\n",
        "CI: [1199.7789, 1364.9288]: This is the confidence interval for the estimated option price. The confidence interval provides a range of values within which the true option price is likely to fall, with a certain level of confidence (which was set by the alpha parameter in the IterativeAmplitudeEstimation to 0.05, implying a 95% confidence level). In this case, the quantum algorithm estimates that the true basket option price is likely between 1199.7789 and 1364.9288.\n",
        "In summary, the quantum method estimates the option price to be approximately 1282.35, but due to the probabilistic nature of the quantum algorithm and the limited resources (number of qubits and shots), there is a range of uncertainty around this estimate, represented by the confidence interval."
      ],
      "metadata": {
        "id": "MRCi_OhREQ6P"
      }
    },
    {
      "cell_type": "markdown",
      "source": [
        "# **7. Results Summary Table**\n",
        "\n",
        "\n",
        "Compare the expected payoffs and errors from each approach.\n"
      ],
      "metadata": {
        "id": "orGkwQ8ncXNZ"
      }
    },
    {
      "cell_type": "code",
      "source": [
        "# Create a summary DataFrame\n",
        "summary = pd.DataFrame({\n",
        "    'Method': ['Classical Monte Carlo', 'Analytical (Approx)', 'Quantum Amplitude Est.'],\n",
        "    'Expected Payoff': [mc_value, analytic_value, quantum_value],\n",
        "    'Std/Error': [mc_std, 0, f'[{conf_int[0]:.4f}, {conf_int[1]:.4f}]'] # Store CI as string\n",
        "})\n",
        "\n",
        "# Prepare data for scatter plot with error bars\n",
        "methods = summary['Method']\n",
        "payoffs = summary['Expected Payoff']\n",
        "errors = []\n",
        "for index, row in summary.iterrows():\n",
        "    if row['Method'] == 'Classical Monte Carlo':\n",
        "        errors.append(float(row['Std/Error']))\n",
        "    elif row['Method'] == 'Analytical (Approx)':\n",
        "        errors.append(0) # No error bar for analytical approximation\n",
        "    elif row['Method'] == 'Quantum Amplitude Est.':\n",
        "        # Assuming the error is half of the confidence interval width\n",
        "        error_str = row['Std/Error'].replace('[', '').replace(']', '')\n",
        "        try:\n",
        "            # Attempt to parse the confidence interval string\n",
        "            conf_interval_width = float(error_str)\n",
        "            errors.append(conf_interval_width / 2)\n",
        "        except ValueError:\n",
        "             # Handle cases where Std/Error is not a parseable number (like '-')\n",
        "            errors.append(0)\n",
        "\n",
        "\n",
        "display(summary)\n",
        "\n",
        "# Optional: Plot for quick visual comparison\n",
        "plt.figure(figsize=(8,5))\n",
        "plt.bar(summary['Method'], summary['Expected Payoff'], yerr=[mc_std, 0, conf_int[1] - conf_int[0]], capsize=8, color=['tab:blue','tab:green','tab:purple'])\n",
        "plt.ylabel('Expected Payoff')\n",
        "plt.title('Basket Option Pricing: Classical, Analytical, Quantum')\n",
        "plt.show()"
      ],
      "metadata": {
        "id": "oRNjK-e3Dz3y",
        "colab": {
          "base_uri": "https://localhost:8080/",
          "height": 594
        },
        "outputId": "c78ba6e4-41e8-47ed-d754-2df348e92732"
      },
      "execution_count": null,
      "outputs": [
        {
          "output_type": "display_data",
          "data": {
            "text/plain": [
              "                   Method  Expected Payoff               Std/Error\n",
              "0   Classical Monte Carlo       934.719118                0.271777\n",
              "1     Analytical (Approx)       934.547340                       0\n",
              "2  Quantum Amplitude Est.      1282.353814  [1199.7789, 1364.9288]"
            ],
            "text/html": [
              "\n",
              "  <div id=\"df-afd82894-e98a-4ad9-9162-d071ea2102b0\" class=\"colab-df-container\">\n",
              "    <div>\n",
              "<style scoped>\n",
              "    .dataframe tbody tr th:only-of-type {\n",
              "        vertical-align: middle;\n",
              "    }\n",
              "\n",
              "    .dataframe tbody tr th {\n",
              "        vertical-align: top;\n",
              "    }\n",
              "\n",
              "    .dataframe thead th {\n",
              "        text-align: right;\n",
              "    }\n",
              "</style>\n",
              "<table border=\"1\" class=\"dataframe\">\n",
              "  <thead>\n",
              "    <tr style=\"text-align: right;\">\n",
              "      <th></th>\n",
              "      <th>Method</th>\n",
              "      <th>Expected Payoff</th>\n",
              "      <th>Std/Error</th>\n",
              "    </tr>\n",
              "  </thead>\n",
              "  <tbody>\n",
              "    <tr>\n",
              "      <th>0</th>\n",
              "      <td>Classical Monte Carlo</td>\n",
              "      <td>934.719118</td>\n",
              "      <td>0.271777</td>\n",
              "    </tr>\n",
              "    <tr>\n",
              "      <th>1</th>\n",
              "      <td>Analytical (Approx)</td>\n",
              "      <td>934.547340</td>\n",
              "      <td>0</td>\n",
              "    </tr>\n",
              "    <tr>\n",
              "      <th>2</th>\n",
              "      <td>Quantum Amplitude Est.</td>\n",
              "      <td>1282.353814</td>\n",
              "      <td>[1199.7789, 1364.9288]</td>\n",
              "    </tr>\n",
              "  </tbody>\n",
              "</table>\n",
              "</div>\n",
              "    <div class=\"colab-df-buttons\">\n",
              "\n",
              "  <div class=\"colab-df-container\">\n",
              "    <button class=\"colab-df-convert\" onclick=\"convertToInteractive('df-afd82894-e98a-4ad9-9162-d071ea2102b0')\"\n",
              "            title=\"Convert this dataframe to an interactive table.\"\n",
              "            style=\"display:none;\">\n",
              "\n",
              "  <svg xmlns=\"http://www.w3.org/2000/svg\" height=\"24px\" viewBox=\"0 -960 960 960\">\n",
              "    <path d=\"M120-120v-720h720v720H120Zm60-500h600v-160H180v160Zm220 220h160v-160H400v160Zm0 220h160v-160H400v160ZM180-400h160v-160H180v160Zm440 0h160v-160H620v160ZM180-180h160v-160H180v160Zm440 0h160v-160H620v160Z\"/>\n",
              "  </svg>\n",
              "    </button>\n",
              "\n",
              "  <style>\n",
              "    .colab-df-container {\n",
              "      display:flex;\n",
              "      gap: 12px;\n",
              "    }\n",
              "\n",
              "    .colab-df-convert {\n",
              "      background-color: #E8F0FE;\n",
              "      border: none;\n",
              "      border-radius: 50%;\n",
              "      cursor: pointer;\n",
              "      display: none;\n",
              "      fill: #1967D2;\n",
              "      height: 32px;\n",
              "      padding: 0 0 0 0;\n",
              "      width: 32px;\n",
              "    }\n",
              "\n",
              "    .colab-df-convert:hover {\n",
              "      background-color: #E2EBFA;\n",
              "      box-shadow: 0px 1px 2px rgba(60, 64, 67, 0.3), 0px 1px 3px 1px rgba(60, 64, 67, 0.15);\n",
              "      fill: #174EA6;\n",
              "    }\n",
              "\n",
              "    .colab-df-buttons div {\n",
              "      margin-bottom: 4px;\n",
              "    }\n",
              "\n",
              "    [theme=dark] .colab-df-convert {\n",
              "      background-color: #3B4455;\n",
              "      fill: #D2E3FC;\n",
              "    }\n",
              "\n",
              "    [theme=dark] .colab-df-convert:hover {\n",
              "      background-color: #434B5C;\n",
              "      box-shadow: 0px 1px 3px 1px rgba(0, 0, 0, 0.15);\n",
              "      filter: drop-shadow(0px 1px 2px rgba(0, 0, 0, 0.3));\n",
              "      fill: #FFFFFF;\n",
              "    }\n",
              "  </style>\n",
              "\n",
              "    <script>\n",
              "      const buttonEl =\n",
              "        document.querySelector('#df-afd82894-e98a-4ad9-9162-d071ea2102b0 button.colab-df-convert');\n",
              "      buttonEl.style.display =\n",
              "        google.colab.kernel.accessAllowed ? 'block' : 'none';\n",
              "\n",
              "      async function convertToInteractive(key) {\n",
              "        const element = document.querySelector('#df-afd82894-e98a-4ad9-9162-d071ea2102b0');\n",
              "        const dataTable =\n",
              "          await google.colab.kernel.invokeFunction('convertToInteractive',\n",
              "                                                    [key], {});\n",
              "        if (!dataTable) return;\n",
              "\n",
              "        const docLinkHtml = 'Like what you see? Visit the ' +\n",
              "          '<a target=\"_blank\" href=https://colab.research.google.com/notebooks/data_table.ipynb>data table notebook</a>'\n",
              "          + ' to learn more about interactive tables.';\n",
              "        element.innerHTML = '';\n",
              "        dataTable['output_type'] = 'display_data';\n",
              "        await google.colab.output.renderOutput(dataTable, element);\n",
              "        const docLink = document.createElement('div');\n",
              "        docLink.innerHTML = docLinkHtml;\n",
              "        element.appendChild(docLink);\n",
              "      }\n",
              "    </script>\n",
              "  </div>\n",
              "\n",
              "\n",
              "    <div id=\"df-68c1fe56-d98c-4779-8005-2f9cbdd1645a\">\n",
              "      <button class=\"colab-df-quickchart\" onclick=\"quickchart('df-68c1fe56-d98c-4779-8005-2f9cbdd1645a')\"\n",
              "                title=\"Suggest charts\"\n",
              "                style=\"display:none;\">\n",
              "\n",
              "<svg xmlns=\"http://www.w3.org/2000/svg\" height=\"24px\"viewBox=\"0 0 24 24\"\n",
              "     width=\"24px\">\n",
              "    <g>\n",
              "        <path d=\"M19 3H5c-1.1 0-2 .9-2 2v14c0 1.1.9 2 2 2h14c1.1 0 2-.9 2-2V5c0-1.1-.9-2-2-2zM9 17H7v-7h2v7zm4 0h-2V7h2v10zm4 0h-2v-4h2v4z\"/>\n",
              "    </g>\n",
              "</svg>\n",
              "      </button>\n",
              "\n",
              "<style>\n",
              "  .colab-df-quickchart {\n",
              "      --bg-color: #E8F0FE;\n",
              "      --fill-color: #1967D2;\n",
              "      --hover-bg-color: #E2EBFA;\n",
              "      --hover-fill-color: #174EA6;\n",
              "      --disabled-fill-color: #AAA;\n",
              "      --disabled-bg-color: #DDD;\n",
              "  }\n",
              "\n",
              "  [theme=dark] .colab-df-quickchart {\n",
              "      --bg-color: #3B4455;\n",
              "      --fill-color: #D2E3FC;\n",
              "      --hover-bg-color: #434B5C;\n",
              "      --hover-fill-color: #FFFFFF;\n",
              "      --disabled-bg-color: #3B4455;\n",
              "      --disabled-fill-color: #666;\n",
              "  }\n",
              "\n",
              "  .colab-df-quickchart {\n",
              "    background-color: var(--bg-color);\n",
              "    border: none;\n",
              "    border-radius: 50%;\n",
              "    cursor: pointer;\n",
              "    display: none;\n",
              "    fill: var(--fill-color);\n",
              "    height: 32px;\n",
              "    padding: 0;\n",
              "    width: 32px;\n",
              "  }\n",
              "\n",
              "  .colab-df-quickchart:hover {\n",
              "    background-color: var(--hover-bg-color);\n",
              "    box-shadow: 0 1px 2px rgba(60, 64, 67, 0.3), 0 1px 3px 1px rgba(60, 64, 67, 0.15);\n",
              "    fill: var(--button-hover-fill-color);\n",
              "  }\n",
              "\n",
              "  .colab-df-quickchart-complete:disabled,\n",
              "  .colab-df-quickchart-complete:disabled:hover {\n",
              "    background-color: var(--disabled-bg-color);\n",
              "    fill: var(--disabled-fill-color);\n",
              "    box-shadow: none;\n",
              "  }\n",
              "\n",
              "  .colab-df-spinner {\n",
              "    border: 2px solid var(--fill-color);\n",
              "    border-color: transparent;\n",
              "    border-bottom-color: var(--fill-color);\n",
              "    animation:\n",
              "      spin 1s steps(1) infinite;\n",
              "  }\n",
              "\n",
              "  @keyframes spin {\n",
              "    0% {\n",
              "      border-color: transparent;\n",
              "      border-bottom-color: var(--fill-color);\n",
              "      border-left-color: var(--fill-color);\n",
              "    }\n",
              "    20% {\n",
              "      border-color: transparent;\n",
              "      border-left-color: var(--fill-color);\n",
              "      border-top-color: var(--fill-color);\n",
              "    }\n",
              "    30% {\n",
              "      border-color: transparent;\n",
              "      border-left-color: var(--fill-color);\n",
              "      border-top-color: var(--fill-color);\n",
              "      border-right-color: var(--fill-color);\n",
              "    }\n",
              "    40% {\n",
              "      border-color: transparent;\n",
              "      border-right-color: var(--fill-color);\n",
              "      border-top-color: var(--fill-color);\n",
              "    }\n",
              "    60% {\n",
              "      border-color: transparent;\n",
              "      border-right-color: var(--fill-color);\n",
              "    }\n",
              "    80% {\n",
              "      border-color: transparent;\n",
              "      border-right-color: var(--fill-color);\n",
              "      border-bottom-color: var(--fill-color);\n",
              "    }\n",
              "    90% {\n",
              "      border-color: transparent;\n",
              "      border-bottom-color: var(--fill-color);\n",
              "    }\n",
              "  }\n",
              "</style>\n",
              "\n",
              "      <script>\n",
              "        async function quickchart(key) {\n",
              "          const quickchartButtonEl =\n",
              "            document.querySelector('#' + key + ' button');\n",
              "          quickchartButtonEl.disabled = true;  // To prevent multiple clicks.\n",
              "          quickchartButtonEl.classList.add('colab-df-spinner');\n",
              "          try {\n",
              "            const charts = await google.colab.kernel.invokeFunction(\n",
              "                'suggestCharts', [key], {});\n",
              "          } catch (error) {\n",
              "            console.error('Error during call to suggestCharts:', error);\n",
              "          }\n",
              "          quickchartButtonEl.classList.remove('colab-df-spinner');\n",
              "          quickchartButtonEl.classList.add('colab-df-quickchart-complete');\n",
              "        }\n",
              "        (() => {\n",
              "          let quickchartButtonEl =\n",
              "            document.querySelector('#df-68c1fe56-d98c-4779-8005-2f9cbdd1645a button');\n",
              "          quickchartButtonEl.style.display =\n",
              "            google.colab.kernel.accessAllowed ? 'block' : 'none';\n",
              "        })();\n",
              "      </script>\n",
              "    </div>\n",
              "\n",
              "  <div id=\"id_dfaa1f92-76eb-45b2-a775-4a2bdb8d4e52\">\n",
              "    <style>\n",
              "      .colab-df-generate {\n",
              "        background-color: #E8F0FE;\n",
              "        border: none;\n",
              "        border-radius: 50%;\n",
              "        cursor: pointer;\n",
              "        display: none;\n",
              "        fill: #1967D2;\n",
              "        height: 32px;\n",
              "        padding: 0 0 0 0;\n",
              "        width: 32px;\n",
              "      }\n",
              "\n",
              "      .colab-df-generate:hover {\n",
              "        background-color: #E2EBFA;\n",
              "        box-shadow: 0px 1px 2px rgba(60, 64, 67, 0.3), 0px 1px 3px 1px rgba(60, 64, 67, 0.15);\n",
              "        fill: #174EA6;\n",
              "      }\n",
              "\n",
              "      [theme=dark] .colab-df-generate {\n",
              "        background-color: #3B4455;\n",
              "        fill: #D2E3FC;\n",
              "      }\n",
              "\n",
              "      [theme=dark] .colab-df-generate:hover {\n",
              "        background-color: #434B5C;\n",
              "        box-shadow: 0px 1px 3px 1px rgba(0, 0, 0, 0.15);\n",
              "        filter: drop-shadow(0px 1px 2px rgba(0, 0, 0, 0.3));\n",
              "        fill: #FFFFFF;\n",
              "      }\n",
              "    </style>\n",
              "    <button class=\"colab-df-generate\" onclick=\"generateWithVariable('summary')\"\n",
              "            title=\"Generate code using this dataframe.\"\n",
              "            style=\"display:none;\">\n",
              "\n",
              "  <svg xmlns=\"http://www.w3.org/2000/svg\" height=\"24px\"viewBox=\"0 0 24 24\"\n",
              "       width=\"24px\">\n",
              "    <path d=\"M7,19H8.4L18.45,9,17,7.55,7,17.6ZM5,21V16.75L18.45,3.32a2,2,0,0,1,2.83,0l1.4,1.43a1.91,1.91,0,0,1,.58,1.4,1.91,1.91,0,0,1-.58,1.4L9.25,21ZM18.45,9,17,7.55Zm-12,3A5.31,5.31,0,0,0,4.9,8.1,5.31,5.31,0,0,0,1,6.5,5.31,5.31,0,0,0,4.9,4.9,5.31,5.31,0,0,0,6.5,1,5.31,5.31,0,0,0,8.1,4.9,5.31,5.31,0,0,0,12,6.5,5.46,5.46,0,0,0,6.5,12Z\"/>\n",
              "  </svg>\n",
              "    </button>\n",
              "    <script>\n",
              "      (() => {\n",
              "      const buttonEl =\n",
              "        document.querySelector('#id_dfaa1f92-76eb-45b2-a775-4a2bdb8d4e52 button.colab-df-generate');\n",
              "      buttonEl.style.display =\n",
              "        google.colab.kernel.accessAllowed ? 'block' : 'none';\n",
              "\n",
              "      buttonEl.onclick = () => {\n",
              "        google.colab.notebook.generateWithVariable('summary');\n",
              "      }\n",
              "      })();\n",
              "    </script>\n",
              "  </div>\n",
              "\n",
              "    </div>\n",
              "  </div>\n"
            ],
            "application/vnd.google.colaboratory.intrinsic+json": {
              "type": "dataframe",
              "variable_name": "summary",
              "summary": "{\n  \"name\": \"summary\",\n  \"rows\": 3,\n  \"fields\": [\n    {\n      \"column\": \"Method\",\n      \"properties\": {\n        \"dtype\": \"string\",\n        \"num_unique_values\": 3,\n        \"samples\": [\n          \"Classical Monte Carlo\",\n          \"Analytical (Approx)\",\n          \"Quantum Amplitude Est.\"\n        ],\n        \"semantic_type\": \"\",\n        \"description\": \"\"\n      }\n    },\n    {\n      \"column\": \"Expected Payoff\",\n      \"properties\": {\n        \"dtype\": \"number\",\n        \"std\": 200.75659173360484,\n        \"min\": 934.547339615011,\n        \"max\": 1282.353813854851,\n        \"num_unique_values\": 3,\n        \"samples\": [\n          934.7191180663339,\n          934.547339615011,\n          1282.353813854851\n        ],\n        \"semantic_type\": \"\",\n        \"description\": \"\"\n      }\n    },\n    {\n      \"column\": \"Std/Error\",\n      \"properties\": {\n        \"dtype\": \"string\",\n        \"num_unique_values\": 3,\n        \"samples\": [\n          0.27177700020660195,\n          0,\n          \"[1199.7789, 1364.9288]\"\n        ],\n        \"semantic_type\": \"\",\n        \"description\": \"\"\n      }\n    }\n  ]\n}"
            }
          },
          "metadata": {}
        },
        {
          "output_type": "display_data",
          "data": {
            "text/plain": [
              "<Figure size 800x500 with 1 Axes>"
            ],
            "image/png": "[encoded data removed]"
          },
          "metadata": {}
        }
      ]
    },
    {
      "cell_type": "markdown",
      "source": [
        "# **Methods ( Results ) Comparison**"
      ],
      "metadata": {
        "id": "gScrlZ2v5ogu"
      }
    },
    {
      "cell_type": "markdown",
      "metadata": {
        "id": "a4c2c04b"
      },
      "source": [
        "# **Monte Carlo Simulation (Basket Option)**\n",
        "\n",
        "\n",
        "**Performance: Efficiency and Adaptability**\n",
        "\n",
        "*   **Efficiency:** In this notebook's context with 100,000 simulations, the Monte Carlo method provided a reasonably accurate estimate of the option price, as indicated by the relatively small standard error (around 0.27). However, achieving higher accuracy would require a significantly larger number of simulations, which would increase computation time. For very complex options or those requiring very high precision, classical Monte Carlo can become computationally expensive.\n",
        "*   **Adaptability to Data, Analytical, and Modeling Goals:** The Monte Carlo method is highly adaptable.\n",
        "    *   **Data:** It directly uses the estimated parameters (annualized volatilities, correlation matrix, latest prices, risk-free rate, and time to maturity) derived from the historical asset price data.\n",
        "    *   **Analytical Goals:** It provides a numerical estimate of the option price, which is the primary analytical goal. It also offers a statistical confidence interval around this estimate.\n",
        "    *   **Modeling Goals:** It is well-suited for modeling the correlated geometric Brownian motion of the asset prices. It can easily be extended to handle more complex price dynamics, multiple assets, and different types of options (e.g., American options, path-dependent options) where analytical solutions are not available.\n",
        "\n",
        "**Strengths and Weaknesses**\n",
        "\n",
        "*   **Strengths:**\n",
        "    *   **Versatility:** Can price a wide range of options, including those with complex payoffs and multiple underlying assets.\n",
        "    *   **Conceptual Simplicity:** The underlying idea of simulating random outcomes is intuitive.\n",
        "    *   **Provides Statistical Error:** The standard error quantifies the reliability of the estimate.\n",
        "    *   **Industry Standard:** A widely accepted and used method in financial engineering.\n",
        "*   **Weaknesses:**\n",
        "    *   **Computational Cost:** Can be slow to converge, especially for high accuracy requirements.\n",
        "    *   **Dependence on Random Numbers:** The quality of the results depends on the quality of the pseudo-random number generator.\n",
        "\n",
        "**Recommendations**\n",
        "\n",
        "*   **For General Use:** Classical Monte Carlo is a reliable and flexible method for pricing a wide variety of options. It should be the go-to method when analytical solutions are not available or when dealing with complex features.\n",
        "*   **For Higher Accuracy:** If higher accuracy is needed, increase the number of simulations. Consider using variance reduction techniques (e.g., antithetic variates, control variates) to improve efficiency without drastically increasing the number of simulations.\n",
        "*   **For Benchmarking:** The Monte Carlo result serves as a good benchmark for other methods, including the analytical approximation and quantum approaches."
      ]
    },
    {
      "cell_type": "markdown",
      "metadata": {
        "id": "c193ff9c"
      },
      "source": [
        "# **Analytical Log-Normal Approximation**\n",
        "\n",
        "\n",
        "\n",
        "**Performance: Efficiency and Adaptability**\n",
        "\n",
        "*   **Efficiency:** This method is extremely efficient. Once the parameters (basket mean and variance) are calculated, the option price is determined using a simple formula, requiring minimal computation time.\n",
        "*   **Adaptability to Data, Analytical, and Modeling Goals:**\n",
        "    *   **Data:** It uses parameters derived from historical data (initial prices, volatility, correlation) but simplifies the basket's price distribution to a single log-normal distribution.\n",
        "    *   **Analytical Goals:** It provides a quick, closed-form estimate of the option price.\n",
        "    *   **Modeling Goals:** It is limited in its modeling capabilities as it relies on the simplifying assumption that the basket value at maturity is log-normally distributed, which is not strictly true for a sum of log-normal variables. It cannot easily handle complex payoffs or path-dependent options.\n",
        "\n",
        "\n",
        "**Strengths and Weaknesses**\n",
        "\n",
        "*   **Strengths:**\n",
        "    *   **Speed:** Very fast calculation.\n",
        "    *   **Simplicity:** Easy to understand and implement for basic basket options.\n",
        "    *   **Benchmark:** Provides a useful first-pass estimate and benchmark for more complex methods.\n",
        "*   **Weaknesses:**\n",
        "    *   **Inaccuracy:** It is an approximation and can be inaccurate, especially for baskets with many assets, high volatility, or when the option strike is far from the money.\n",
        "    *   **Limited Scope:** Only applicable to a narrow range of option types and underlying asset distributions.\n",
        "    *   **No Error Metric:** Does not provide a statistical error or confidence interval.\n",
        "\n",
        "\n",
        "**Recommendations**\n",
        "\n",
        "*   **For Quick Estimates:** Use this method for a rapid initial estimate or as a benchmark for more computationally intensive methods.\n",
        "*   **Understand Limitations:** Be aware that this is an approximation and may not be suitable for pricing options where high accuracy is critical or for options with complex features.\n",
        "*   **Supplement with Other Methods:** For more reliable results, always supplement or validate the analytical approximation with methods like Monte Carlo simulation, especially for complex scenarios."
      ]
    },
    {
      "cell_type": "markdown",
      "metadata": {
        "id": "84987816"
      },
      "source": [
        "# **Quantum Basket Option Pricing (Qiskit Amplitude Estimation)**\n",
        "\n",
        "\n",
        "**Performance: Efficiency and Adaptability**\n",
        "\n",
        "*   **Efficiency:** On a classical simulator, the efficiency is limited by the simulation of quantum circuits, which can be computationally intensive, especially as the number of qubits increases. The theoretical quadratic speedup of Amplitude Estimation over classical Monte Carlo is only realized on actual fault-tolerant quantum hardware, which is not yet widely available. In this notebook, the quantum simulation with a limited number of qubits (2 per asset) required a significant number of shots (1000) for the iterative AE algorithm.\n",
        "*   **Adaptability to Data, Analytical, and Modeling Goals:**\n",
        "    *   **Data:** It requires mapping the probability distribution of the asset prices at maturity onto a quantum state. This involves using parameters derived from historical data (mean vector and covariance matrix) to construct the quantum circuit (e.g., using `LogNormalDistribution`).\n",
        "    *   **Analytical Goals:** It aims to estimate the expected value (the option price) by estimating the amplitude of a specific quantum state. It provides a confidence interval around this estimate.\n",
        "    *   **Modeling Goals:** It can potentially model complex probability distributions and payoff functions that might be challenging for classical methods. The `WeightedAdder` and `LinearAmplitudeFunction` components in the circuit demonstrate how the basket sum and payoff are encoded. However, building efficient quantum circuits for arbitrary distributions and payoffs is an active area of research.\n",
        "\n",
        "\n",
        "\n",
        "**Strengths and Weaknesses**\n",
        "\n",
        "*   **Strengths:**\n",
        "    *   **Potential for Speedup:** Theoretically offers a quadratic speedup over classical Monte Carlo for achieving a given accuracy, which could be a significant advantage for complex, high-dimensional problems on future quantum computers.\n",
        "    *   **Provides Confidence Intervals:** The iterative version of the algorithm provides confidence intervals for the estimated value.\n",
        "    *   **New Approach:** Represents a fundamentally different approach to financial modeling with potential to tackle problems intractable for classical computing.\n",
        "*   **Weaknesses:**\n",
        "    *   **Hardware Dependence:** Practical implementation is currently limited by the capabilities of noisy intermediate-scale quantum (NISQ) computers and the lack of fault-tolerant quantum computers. Simulations on classical hardware are slow and limited in scale.\n",
        "    *   **Complexity:** Designing and implementing the required quantum circuits (especially the state preparation and objective function encoding) is complex and requires specialized knowledge.\n",
        "    *   **Number of Qubits and Circuit Depth:** The accuracy and feasibility are highly dependent on the number of available qubits and the depth of the quantum circuit, which can introduce errors on NISQ devices. The limited qubits used in the notebook resulted in a wider confidence interval compared to the classical Monte Carlo with many simulations.\n",
        "    *   **Error Mitigation:** Requires sophisticated error mitigation techniques on current hardware.\n",
        "\n",
        "**Recommendations**\n",
        "\n",
        "*   **For Research and Exploration:** Use this method to explore the potential of quantum computing for financial applications and to gain experience with quantum algorithms like Amplitude Estimation.\n",
        "*   **Understand Current Limitations:** Be aware that obtaining high accuracy comparable to classical methods currently requires significant computational resources (on simulators) or is limited by the capabilities of available quantum hardware.\n",
        "*   **Focus on Problem Mapping:** Focus on how to effectively map financial problems (like asset price distributions and option payoffs) onto quantum circuits.\n",
        "*   **Monitor Hardware Advancements:** Keep track of developments in quantum hardware, as the practicality and performance of quantum algorithms for finance will improve with better and larger quantum computers."
      ]
    },
    {
      "cell_type": "markdown",
      "metadata": {
        "id": "c5a775cc"
      },
      "source": [
        "# **Summary**\n",
        "\n",
        "Based on the summary of the option prices, here's an overall comprehensive summary explaining the performance and other case applications of the three different models and algorithms:\n",
        "\n",
        "We looked at three ways to figure out the price of a \"basket option,\" which is like a bet on the combined value of a few assets (in this case, oil and gold).\n",
        "\n",
        "1.  **Classical Monte Carlo Simulation:** Think of this like running many possible future scenarios for oil and gold prices on a regular computer and averaging the outcomes.\n",
        "    *   **Performance:** It gave us a price with a pretty good idea of how accurate it is (a small error margin). It's like getting a range where the true price is likely to be.\n",
        "    *   **Applications:** This is a go-to method in finance because it's really flexible. You can use it for all sorts of complex options, even ones with tricky rules or many assets. The trade-off is that getting a super precise answer can take a lot of computing power and time.\n",
        "\n",
        "2.  **Analytical Log-Normal Approximation:** This is a shortcut that uses a formula based on a simplified assumption about how the basket's value behaves.\n",
        "    *   **Performance:** It's super fast to calculate, giving us a quick estimate. Our summary shows it was quite close to the Monte Carlo result in this case.\n",
        "    *   **Applications:** It's great for getting a rough idea of the price quickly or as a starting point. However, it's not always perfectly accurate, especially for more complicated baskets, because the real-world behavior of asset sums isn't exactly what the formula assumes. It doesn't tell you how precise its estimate is.\n",
        "\n",
        "3.  **(QSKIT) Quantum Amplitude Estimation:** This is a newer approach using quantum computing principles to estimate the price.\n",
        "    *   **Performance:** Our summary shows it gave a price estimate with a wider range of uncertainty (a larger confidence interval) compared to the classical Monte Carlo. This is because we used a limited quantum setup for demonstration. The real promise of this method is on powerful future quantum computers, where it could potentially be much faster than classical methods for certain complex problems.\n",
        "    *   **Applications:** This is an exciting area of research. While not yet practical for widespread use due to current quantum hardware limitations, it has the potential to solve financial problems that are too complex for even the most powerful classical computers in the future. It's still in the early stages of development for real-world finance applications.\n",
        "\n",
        "In short, Classical Monte Carlo is the reliable workhorse for flexibility and accuracy (with enough computing power). The Analytical method is a quick-and-dirty estimate. Quantum Amplitude Estimation is a promising future technology with the potential for speedups on complex problems, but it's still under development and currently has higher uncertainty with limited resources."
      ]
    }
  ],
  "metadata": {
    "kernelspec": {
      "display_name": "Python 3",
      "language": "python",
      "name": "python3"
    },
    "language_info": {
      "name": "python",
      "version": "3.8"
    },
    "colab": {
      "provenance": [],
      "include_colab_link": true
    }
  },
  "nbformat": 4,
  "nbformat_minor": 0
}